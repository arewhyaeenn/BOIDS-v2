{
 "cells": [
  {
   "cell_type": "code",
   "execution_count": 14,
   "metadata": {
    "collapsed": false
   },
   "outputs": [
    {
     "name": "stdout",
     "output_type": "stream",
     "text": [
      "time  :  0\n",
      "nf  :  300\n",
      "ns  :  5\n",
      "fs  :  1.006238\n",
      "fa  :  19.63075\n",
      "fcw  :  2.000094\n",
      "faw  :  2.000251\n",
      "fsew  :  3.999318\n",
      "fshw  :  9.999259\n",
      "fdw  :  10.00095\n",
      "ffw  :  4.999341\n",
      "ss  :  1.21121\n",
      "sa  :  9.978431\n",
      "ssw  :  1.999575\n",
      "sfw  :  1.001511\n",
      "ssize\n",
      "  :  5.191878\n",
      "\n"
     ]
    }
   ],
   "source": [
    "file = open('12032017231031-data.csv','r')\n",
    "x1 = file.readline().split(',')\n",
    "x2 = file.readline().split(',')\n",
    "file.close()\n",
    "i = 0\n",
    "'''while i < min(len(x[0]),len(x[1])):\n",
    "    print(x[0][i],' : ',x[1][i])\n",
    "    i += 1\n",
    "while i < len(x[1]):\n",
    "    print('    : ',x[1][i])\n",
    "    i += 1'''\n",
    "while i < len(x1):\n",
    "    print(x1[i],' : ',x2[i])\n",
    "    i+=1"
   ]
  },
  {
   "cell_type": "code",
   "execution_count": null,
   "metadata": {
    "collapsed": true
   },
   "outputs": [],
   "source": []
  }
 ],
 "metadata": {
  "kernelspec": {
   "display_name": "Python [Root]",
   "language": "python",
   "name": "Python [Root]"
  },
  "language_info": {
   "codemirror_mode": {
    "name": "ipython",
    "version": 3
   },
   "file_extension": ".py",
   "mimetype": "text/x-python",
   "name": "python",
   "nbconvert_exporter": "python",
   "pygments_lexer": "ipython3",
   "version": "3.5.2"
  }
 },
 "nbformat": 4,
 "nbformat_minor": 0
}
